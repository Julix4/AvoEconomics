{
 "cells": [
  {
   "cell_type": "markdown",
   "metadata": {},
   "source": [
    "**Cohortes Avanzados**"
   ]
  },
  {
   "cell_type": "code",
   "execution_count": 3,
   "metadata": {},
   "outputs": [],
   "source": [
    "import pandas as pd\n",
    "import numpy as np\n",
    "import matplotlib.pyplot as plt #plots\n",
    "plt.rcParams['figure.figsize'] = 20, 15\n",
    "#plt.style.use('seaborn-v0_8-notebook')"
   ]
  },
  {
   "cell_type": "code",
   "execution_count": null,
   "metadata": {},
   "outputs": [],
   "source": [
    "#Importar los datasets\n",
    "df_avocado = pd.read_csv('/Users/juli/uoc/02_intensivoUOC/git/AvoEconomics/data/avocado.csv').copy()\n",
    "df_producer_prices = pd.read_csv('/Users/juli/uoc/02_intensivoUOC/git/AvoEconomics/data/FAOSTAT_data_avocado_Producer_Prices.csv').copy()\n",
    "df_livestock = pd.read_csv('/Users/juli/uoc/02_intensivoUOC/git/AvoEconomics/data/FAOSTAT_Crops and livestock products.csv').copy()"
   ]
  },
  {
   "cell_type": "markdown",
   "metadata": {},
   "source": []
  }
 ],
 "metadata": {
  "kernelspec": {
   "display_name": "base",
   "language": "python",
   "name": "python3"
  },
  "language_info": {
   "codemirror_mode": {
    "name": "ipython",
    "version": 3
   },
   "file_extension": ".py",
   "mimetype": "text/x-python",
   "name": "python",
   "nbconvert_exporter": "python",
   "pygments_lexer": "ipython3",
   "version": "3.9.12"
  }
 },
 "nbformat": 4,
 "nbformat_minor": 2
}
