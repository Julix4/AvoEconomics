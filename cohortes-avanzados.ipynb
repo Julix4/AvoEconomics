{
 "cells": [
  {
   "cell_type": "markdown",
   "metadata": {},
   "source": [
    "**Cohortes Avanzados**"
   ]
  },
  {
   "cell_type": "code",
   "execution_count": null,
   "metadata": {},
   "outputs": [],
   "source": [
    "%run './analisis-calidad-datos-y-outliers.ipynb'"
   ]
  },
  {
   "cell_type": "markdown",
   "metadata": {},
   "source": [
    "**1. Estacionalidad:**\n",
    "- Cohorte Mensual: Análisis mensual de volúmenes de compra por región para identificar patrones estacionales.\n",
    "- Comparación Año a Año: Comparar volúmenes y precios promedio año a año para identificar temporadas de alta demanda.\n",
    "- Días Festivos y Temporadas de Vacaciones: Crear cohortes basados en semanas festivas y periodos de vacaciones para analizar cambios en compras."
   ]
  },
  {
   "cell_type": "code",
   "execution_count": null,
   "metadata": {},
   "outputs": [],
   "source": [
    "# Crear cohortes menual usando AveragePrice, Total Volume y Date.\n",
    "cor1 = df.groupby(pd.Grouper(key='Date', freq='M')).agg(\n",
    "    avg_price=('AveragePrice', 'mean'),\n",
    "    total_volume=('Total Volume', 'sum')\n",
    ").reset_index()\n",
    "\n",
    "# Visualización\n",
    "fig, ax1 = plt.subplots(figsize=(14, 7))\n",
    "\n",
    "# Gráfico de líneas para el volumen total\n",
    "ax1.plot(cor1['Date'], cor1['total_volume'], marker='s', label='Total Volume', linestyle='--', linewidth=2, color='green')\n",
    "ax1.set_xlabel('Fecha (Trimestre)')\n",
    "ax1.set_ylabel('Total Volume', color='green')\n",
    "ax1.tick_params(axis='y', labelcolor='green')\n",
    "\n",
    "# Crear un segundo eje y para el promedio de precio\n",
    "ax2 = ax1.twinx()\n",
    "ax2.plot(cor1['Date'], cor1['avg_price'], marker='o', label='Average Price', linestyle='-', linewidth=2, color='blue')\n",
    "ax2.set_ylabel('Average Price', color='blue')\n",
    "ax2.tick_params(axis='y', labelcolor='blue')\n",
    "\n",
    "plt.title('Evolución Trimestral de Promedio de Precio y Volumen Total')\n",
    "fig.tight_layout()\n",
    "plt.grid(True)\n",
    "plt.show()"
   ]
  },
  {
   "cell_type": "markdown",
   "metadata": {},
   "source": [
    "**2. Exceso de Compras (Desperdicios o Fechas Especiales):**\n",
    "- Compras Atípicas: Detectar semanas con volúmenes significativamente superiores a la media para investigar posibles desperdicios.\n",
    "- Eventos Especiales: Identificar picos de compras asociados con eventos conocidos o temporadas de promociones de hoteles.\n",
    "- Cohorte de Variabilidad de Precios: Analizar semanas con cambios bruscos en precios para correlacionarlos con posibles excesos de compra."
   ]
  },
  {
   "cell_type": "markdown",
   "metadata": {},
   "source": [
    "**3. Tipos de Aguacates (Orgánico vs. Convencional):**\n",
    "- Segmentación por Tipo de Aguacate: Crear cohortes de compras separadas por type (orgánico vs. convencional) y analizar diferencias en precios y volúmenes por temporada.\n",
    "- Demanda Relativa: Comparar la proporción de compras de orgánico vs. convencional a lo largo del año."
   ]
  },
  {
   "cell_type": "markdown",
   "metadata": {},
   "source": [
    "**4. Proveedores y Seguridad de Consumo:**\n",
    "- Ranking de Proveedores: Crear un ranking de regiones/productores según precios promedio y estabilidad de oferta a lo largo del año.\n",
    "- Análisis de Vacíos de Oferta: Identificar periodos de baja oferta de ciertos productores y buscar productores alternativos con precios competitivos en esas fechas."
   ]
  }
 ],
 "metadata": {
  "kernelspec": {
   "display_name": "base",
   "language": "python",
   "name": "python3"
  },
  "language_info": {
   "codemirror_mode": {
    "name": "ipython",
    "version": 3
   },
   "file_extension": ".py",
   "mimetype": "text/x-python",
   "name": "python",
   "nbconvert_exporter": "python",
   "pygments_lexer": "ipython3",
   "version": "3.9.12"
  }
 },
 "nbformat": 4,
 "nbformat_minor": 2
}
